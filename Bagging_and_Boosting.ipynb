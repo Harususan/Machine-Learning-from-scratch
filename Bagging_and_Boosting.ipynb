{
  "nbformat": 4,
  "nbformat_minor": 0,
  "metadata": {
    "colab": {
      "name": "Bagging_and_Boosting.ipynb",
      "provenance": []
    },
    "kernelspec": {
      "name": "python3",
      "display_name": "Python 3"
    },
    "language_info": {
      "name": "python"
    }
  },
  "cells": [
    {
      "cell_type": "markdown",
      "source": [
        "#Random Forest\n",
        "Bagging technique that trains multiple decision trees with minor modification in split criterion."
      ],
      "metadata": {
        "id": "GcPVvzsk_ax3"
      }
    },
    {
      "cell_type": "code",
      "execution_count": null,
      "metadata": {
        "id": "1TO_o5zi_SNg"
      },
      "outputs": [],
      "source": [
        "import numpy as np\n",
        "import pandas as pd\n",
        "from collections import Counter\n",
        "from sklearn.tree import DecisionTreeClassifier"
      ]
    },
    {
      "cell_type": "markdown",
      "source": [
        "##Bagging\n",
        "Its the process of bootstrap aggregation."
      ],
      "metadata": {
        "id": "QPYrrUofAEMe"
      }
    },
    {
      "cell_type": "code",
      "source": [
        "def bag(X,y):\n",
        "    n_samples = X.shape[0]\n",
        "    indices = np.random.choice(n_samples, size = n_samples,\n",
        "                               replace=True, random_state= 1111)\n",
        "    \n",
        "    return X[indices], y[indices]"
      ],
      "metadata": {
        "id": "mZqSf2U6AKmG"
      },
      "execution_count": null,
      "outputs": []
    },
    {
      "cell_type": "markdown",
      "source": [
        "##Majority Voting\n",
        "To get the classification label, we use majority voting for a classifier."
      ],
      "metadata": {
        "id": "ucuJwXo_Aia-"
      }
    },
    {
      "cell_type": "code",
      "source": [
        "def most_common_label(y):\n",
        "    counter = Counter(y)\n",
        "    most_common = counter.most_common(1)[0][0]\n",
        "    return most_common"
      ],
      "metadata": {
        "id": "6XiEFN7wAhko"
      },
      "execution_count": null,
      "outputs": []
    },
    {
      "cell_type": "markdown",
      "source": [
        "###Random Forest HPT\n",
        "number of tree = 10\n",
        "\n",
        "min number of samples = 2\n",
        "\n",
        "max depth = 100\n"
      ],
      "metadata": {
        "id": "pm2-_s07BCdo"
      }
    },
    {
      "cell_type": "code",
      "source": [
        "class RandomForest:\n",
        "    def __init__(self,n_trees=10,min_samples_split=2, max_depth=100,max_features=None):\n",
        "        self.n_trees = n_trees\n",
        "        self.min_samples_split = min_samples_split\n",
        "        self.max_depth = max_depth\n",
        "        self.max_features = max_features\n",
        "        self.trees = []\n",
        "        \n"
      ],
      "metadata": {
        "id": "9FyB92UdA4iu"
      },
      "execution_count": null,
      "outputs": []
    },
    {
      "cell_type": "code",
      "source": [
        "def fit(self,X,y):\n",
        "    self.trees = []\n",
        "    for xi in range(self.n_trees):\n",
        "        tree = DecisionTreeClassifier(\n",
        "            min_samples_split = self.min_samples_split,\n",
        "            max_depth = self.max_depth,\n",
        "            max_features = self.max_features\n",
        "        )\n",
        "        X_sample, y_sample = bag(X,y)\n",
        "        tree.fit(X_sample,y_sample)\n",
        "        self.trees.append(tree)"
      ],
      "metadata": {
        "id": "WpIrG_nFB_D-"
      },
      "execution_count": null,
      "outputs": []
    },
    {
      "cell_type": "code",
      "source": [
        ""
      ],
      "metadata": {
        "id": "1Kq9eauBCbfA"
      },
      "execution_count": null,
      "outputs": []
    }
  ]
}