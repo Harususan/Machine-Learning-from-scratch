{
  "nbformat": 4,
  "nbformat_minor": 0,
  "metadata": {
    "colab": {
      "name": "Bernoulli_NB_numpy.ipynb",
      "provenance": []
    },
    "kernelspec": {
      "name": "python3",
      "display_name": "Python 3"
    },
    "language_info": {
      "name": "python"
    }
  },
  "cells": [
    {
      "cell_type": "code",
      "execution_count": null,
      "metadata": {
        "id": "fpo7_CJOif41"
      },
      "outputs": [],
      "source": [
        "import numpy as np"
      ]
    },
    {
      "cell_type": "markdown",
      "source": [
        "#Bernouilli NB\n",
        "- NB classifiers are generative algoritmhs that use Baye's rule to predict classes.\n",
        "- Used in Spam filtering generally.\n",
        "- Bernoulli NB classifier works on binary classification problem.\n",
        "- Class conditional density and prior depends on the underlying distribution while the evidence remaions the same.\n",
        "- posterior = prior*likelihood/evidence\n",
        "- In case of Bernoulli NB, class conditional density equates to the average of feature value xj in examples with label yc.\n",
        "- Class prior is the total number of samples with class yc divided by total number of samples."
      ],
      "metadata": {
        "id": "ZAOP9bxSikso"
      }
    },
    {
      "cell_type": "code",
      "source": [
        "def fit(X,y):\n",
        "    n_samples, n_features = X.shape\n",
        "    class_count = np.unique(y)\n",
        "    n_classes = len(class_count)\n",
        "\n",
        "    w = np.zeros((n_classes,n_features),dtype=np.float64)\n",
        "    w_priors = np.zeros(n_classes, dtype = np.float64) \n",
        "\n",
        "    for c in range(n_classes):\n",
        "        # Parameters with label = c\n",
        "        X_c = X[y == c]\n",
        "\n",
        "        #Class conditional density\n",
        "        w[c,:] = np.sum(X_c, axis=0)/X_c.shape[0] \n",
        "\n",
        "        # Class prior\n",
        "        w_priors[c] = X_c.shape[0]/float(n_samples)\n",
        "\n",
        "        return w, w_priors"
      ],
      "metadata": {
        "id": "ummOb1g-inGG"
      },
      "execution_count": null,
      "outputs": []
    },
    {
      "cell_type": "code",
      "source": [
        "X = np.array([[1,0],[0,1],[0,1],[1,0]])\n",
        "y = np.array([1,0,0,1])\n",
        "print(fit(X,y))"
      ],
      "metadata": {
        "colab": {
          "base_uri": "https://localhost:8080/"
        },
        "id": "_1r4Pzi1mDbm",
        "outputId": "8092ee46-7cb3-4a65-e564-75ca5567abec"
      },
      "execution_count": null,
      "outputs": [
        {
          "output_type": "stream",
          "name": "stdout",
          "text": [
            "(array([[0., 1.],\n",
            "       [0., 0.]]), array([0.5, 0. ]))\n"
          ]
        }
      ]
    },
    {
      "cell_type": "code",
      "source": [
        "class BernoulliNB(object):\n",
        "    def __init__(self,alpha=1.0):\n",
        "        self.alpha = alpha \n",
        "\n",
        "    def fit(self,X,y):\n",
        "        n_samples, n_features = X.shape\n",
        "        class_count = np.unique(y)\n",
        "        n_classes = len(class_count)\n",
        "\n",
        "        self.w = np.zeros((n_classes,n_features),dtype=np.float64)\n",
        "        self.w_priors = np.zeros(n_classes, dtype = np.float64) \n",
        "\n",
        "        for c in range(n_classes):\n",
        "            X_c = X[y==c]\n",
        "            self.w[c,:] = (np.sum(X_c, axis=0)+self.alpha)/(X_c.shape[0] \n",
        "                           + 2*self.alpha)\n",
        "            self.w_priors[c] = ((X_c.shape[0] + self.alpha)/\n",
        "                             (float(n_samples) + n_classes*self.alpha))\n",
        "        \n",
        "        print(\"Class conditional density: \",self.w)\n",
        "        print(\"Class prior: \",self.w_priors)\n",
        "    \n",
        "    def log_likelihood_prior_prod(self,X):\n",
        "        return (X@(np.log(self.w).T)+(1-X)@(np.log(1-self.w).T)\n",
        "        +np.log(self.w_priors))\n",
        "\n",
        "    def predict_prob(self,X):\n",
        "        q = self.log_likelihood_prior_prod(X)\n",
        "        return np.exp(q)/np.expand_dims(np.sum(np.exp(q),axis=1),axis=1)\n",
        "    \n",
        "    def predict(self,X):\n",
        "        return np.argmax(self.log_likelihood_prior_prod(X),axis=1)\n"
      ],
      "metadata": {
        "id": "gMzHxRu5oI6u"
      },
      "execution_count": null,
      "outputs": []
    },
    {
      "cell_type": "markdown",
      "source": [
        "#Demonstration"
      ],
      "metadata": {
        "id": "MWYTikRBq6DR"
      }
    },
    {
      "cell_type": "code",
      "source": [
        "nb = BernoulliNB()\n",
        "nb.fit(X,y)"
      ],
      "metadata": {
        "colab": {
          "base_uri": "https://localhost:8080/"
        },
        "id": "ygQbUuFZq4x2",
        "outputId": "f6ecc185-77c2-4720-a9f4-977b68e48567"
      },
      "execution_count": null,
      "outputs": [
        {
          "output_type": "stream",
          "name": "stdout",
          "text": [
            "Class conditional density:  [[0.25 0.75]\n",
            " [0.75 0.25]]\n",
            "Class prior:  [0.5 0.5]\n"
          ]
        }
      ]
    },
    {
      "cell_type": "code",
      "source": [
        "nb.predict(X)"
      ],
      "metadata": {
        "colab": {
          "base_uri": "https://localhost:8080/"
        },
        "id": "pcRDoK_krO6E",
        "outputId": "1fb2e841-997e-4a3d-82ce-e979d14d9aa5"
      },
      "execution_count": null,
      "outputs": [
        {
          "output_type": "execute_result",
          "data": {
            "text/plain": [
              "array([1, 0, 0, 1])"
            ]
          },
          "metadata": {},
          "execution_count": 21
        }
      ]
    },
    {
      "cell_type": "code",
      "source": [
        "nb.predict_prob(X)"
      ],
      "metadata": {
        "colab": {
          "base_uri": "https://localhost:8080/"
        },
        "id": "qcMRQtbcrTQE",
        "outputId": "9f66e4d3-0b33-4165-94f2-03a036eb5a6c"
      },
      "execution_count": null,
      "outputs": [
        {
          "output_type": "execute_result",
          "data": {
            "text/plain": [
              "array([[0.1, 0.9],\n",
              "       [0.9, 0.1],\n",
              "       [0.9, 0.1],\n",
              "       [0.1, 0.9]])"
            ]
          },
          "metadata": {},
          "execution_count": 12
        }
      ]
    },
    {
      "cell_type": "code",
      "source": [
        "nb.log_likelihood_prior_prod(X)"
      ],
      "metadata": {
        "colab": {
          "base_uri": "https://localhost:8080/"
        },
        "id": "Z_5J2jycrXvc",
        "outputId": "dc1d16c4-ba0b-44f0-ebfd-13d24c401c7c"
      },
      "execution_count": null,
      "outputs": [
        {
          "output_type": "execute_result",
          "data": {
            "text/plain": [
              "array([[-3.4657359 , -1.26851133],\n",
              "       [-1.26851133, -3.4657359 ],\n",
              "       [-1.26851133, -3.4657359 ],\n",
              "       [-3.4657359 , -1.26851133]])"
            ]
          },
          "metadata": {},
          "execution_count": 13
        }
      ]
    },
    {
      "cell_type": "markdown",
      "source": [
        "##Multiclass classification setup"
      ],
      "metadata": {
        "id": "Hx4KAbaDrro9"
      }
    },
    {
      "cell_type": "code",
      "source": [
        "X = np.array([[1,0],[1,0],[0,1],[1,0],[0,1],[0,0],[0,0],[1,1],[1,1],[1,0]])\n",
        "y = np.array([1,0,2,0,2,1,0,0,2,1])"
      ],
      "metadata": {
        "id": "8o7TdMZnrv_D"
      },
      "execution_count": null,
      "outputs": []
    },
    {
      "cell_type": "code",
      "source": [
        "NB = BernoulliNB(alpha=2.5)\n",
        "NB.fit(X,y)"
      ],
      "metadata": {
        "colab": {
          "base_uri": "https://localhost:8080/"
        },
        "id": "fsKTmcTdsI1z",
        "outputId": "f563b5f1-1ac8-4b63-8a6f-7335c3b59f62"
      },
      "execution_count": null,
      "outputs": [
        {
          "output_type": "stream",
          "name": "stdout",
          "text": [
            "Class conditional density:  [[0.61111111 0.38888889]\n",
            " [0.5625     0.3125    ]\n",
            " [0.4375     0.6875    ]]\n",
            "Class prior:  [0.37142857 0.31428571 0.31428571]\n"
          ]
        }
      ]
    },
    {
      "cell_type": "code",
      "source": [
        "NB.predict(X)"
      ],
      "metadata": {
        "colab": {
          "base_uri": "https://localhost:8080/"
        },
        "id": "jQF2JeQasQUw",
        "outputId": "0bab217c-231e-4e18-8acf-90197c8cc0b4"
      },
      "execution_count": null,
      "outputs": [
        {
          "output_type": "execute_result",
          "data": {
            "text/plain": [
              "array([0, 0, 2, 0, 2, 1, 1, 2, 2, 0])"
            ]
          },
          "metadata": {},
          "execution_count": 28
        }
      ]
    },
    {
      "cell_type": "markdown",
      "source": [
        "#Gaussian Naive Bayes\n",
        "- Features are continuous and the underlying assumption is that the labels come from a gaussian distribution.\n",
        "- We use multivarite Gaussian distribution reprerantion for efficient computation. \n",
        "- It involves a mean vector and the coviarance matrix(diagonal only) to represent the model.\n",
        "- posterior = prior*likelihood/evidence  "
      ],
      "metadata": {
        "id": "uiFvageCvBmh"
      }
    },
    {
      "cell_type": "code",
      "source": [
        "class GaussianNB(object):\n",
        "\n",
        "    def fit(self,X,y):\n",
        "        n_samples, n_features = X.shape\n",
        "        self._classes = np.unique(y)\n",
        "        n_classes = len(self._classes)\n",
        "\n",
        "        self._mean = np.zeros((n_classes,n_features), dtype=np.float64)\n",
        "        self._var = np.zeros((n_classes,n_features), dtype=np.float64)\n",
        "        self._priors = np.zeros(n_classes, dtype=np.float64)\n",
        "\n",
        "        for idx,c in enumerate(self._classes):\n",
        "            X_c = X[y == c]\n",
        "\n",
        "            self._mean[idx,:] = X_c.mean(axis=0)\n",
        "            self._var[idx,:] = X_c.var(axis=0)\n",
        "            self._priors[idx] = X_c.shape[0]/float(n_samples)\n",
        "\n",
        "        print(\"Mean: \", self._mean)\n",
        "        print(\"Variance: \",self._var)\n",
        "        print(\"Priors: \",self._priors)\n",
        "    \n",
        "    def _calc_pdf(self,class_idx,X):\n",
        "        mean = self._mean[class_idx]\n",
        "        var = np.diag(self._var[class_idx])\n",
        "        z = np.power(2*np.pi, X.shape[0]/2)*np.power(np.linalg.det(var),1/2)\n",
        "        return (1/z)*np.exp(-0.5*np.transpose(X - mean)@(np.linalg.inv(var)@(X-mean)))\n",
        "\n",
        "    def _calc_prod_likelihood_prior(self,X):\n",
        "        self._prod_likelihood_prior = np.zeros((X.shape[0],len(self._classes)),dtype=np.float64)\n",
        "\n",
        "        for x_idx,x in enumerate(X):\n",
        "            for idx,c in enumerate(self._classes):\n",
        "                self._prod_likelihood_prior = (np.log(self._calc_pdf(idx,x)) + np.log(self._priors[idx]))\n",
        "    \n",
        "    def predict(self,X):\n",
        "        self._calc_prod_likelihood_prior(X)\n",
        "        return np.argmax(self._prod_likelihood_prior,axis=1)\n",
        "\n",
        "    def predict_prob(self,X):\n",
        "        self._calc_prod_likelihood_prior(X)\n",
        "        return (np.exp(self._prod_likelihood_prior)/ \n",
        "                np.expand_dims(np.sim(np.exp(self._prod_likelihood_prior),axis=1),axis=1))\n"
      ],
      "metadata": {
        "id": "1o4ctZYevAzk"
      },
      "execution_count": null,
      "outputs": []
    },
    {
      "cell_type": "markdown",
      "source": [
        "#Demonstration"
      ],
      "metadata": {
        "id": "Ljir8nmO2BjQ"
      }
    },
    {
      "cell_type": "code",
      "source": [
        "from sklearn.datasets import make_classification,make_blobs\n",
        "from sklearn.model_selection import train_test_split \n",
        "\n",
        "X,y = make_blobs(n_samples=100,\n",
        "                 n_features=2,\n",
        "                 centers=[[3,3],[7,7]],\n",
        "                 cluster_std=2.0,\n",
        "                 random_state=10)\n",
        "\n",
        "X_train,X_test,y_train,y_test = train_test_split(X,y,test_size=0.2,random_state=1111)\n"
      ],
      "metadata": {
        "id": "qy6BkwNo2EKu"
      },
      "execution_count": null,
      "outputs": []
    },
    {
      "cell_type": "code",
      "source": [
        "gnb = GaussianNB()\n",
        "gnb.fit(X_train,y_train)"
      ],
      "metadata": {
        "colab": {
          "base_uri": "https://localhost:8080/"
        },
        "id": "D9KTmiJb2xMv",
        "outputId": "23671862-dfcc-45d5-eae2-c149b8231cfd"
      },
      "execution_count": null,
      "outputs": [
        {
          "output_type": "stream",
          "name": "stdout",
          "text": [
            "Mean:  [[3.32482422 2.99925374]\n",
            " [7.38479102 6.82884038]]\n",
            "Variance:  [[3.54023816 3.81810434]\n",
            " [3.83642641 2.84726561]]\n",
            "Priors:  [0.4625 0.5375]\n"
          ]
        }
      ]
    },
    {
      "cell_type": "code",
      "source": [
        "import matplotlib.pyplot as plt\n",
        "import seaborn as sns\n",
        "\n",
        "plt.figure(figsize=(12,8))\n",
        "fig, ax = plt.subplots()\n",
        "ax.scatter(X[:, 0], X[:, 1], c=y, s=50, cmap='RdBu')\n",
        "\n",
        "xlim = (min(X[:, 0])-2, max(X[:, 0])+2)\n",
        "ylim = (min(X[:, 1])-2, max(X[:, 1])+2)\n",
        "\n",
        "xg = np.linspace(xlim[0], xlim[1], 60)\n",
        "yg = np.linspace(ylim[0], ylim[1], 40)\n",
        "\n",
        "xx, yy = np.meshgrid(xg, yg)\n",
        "Xgrid = np.vstack([xx.ravel(), yy.ravel()]).T\n",
        "\n",
        "\n",
        "for label, color in enumerate(['red', 'blue']):\n",
        "    mask = (y == label)\n",
        "    mu, std = X[mask].mean(0), X[mask].std(0)\n",
        "    P = np.exp(-0.5 * (Xgrid - mu)**2 / std**2).prod(1)\n",
        "    Pm = np.ma.masked_array(P, P < 0.03)\n",
        "    ax.pcolorfast(xg, yg, Pm.reshape(xx.shape),\n",
        "                alpha=0.5, cmap=color.title()+'s')\n",
        "    ax.contour(xx, yy, P.reshape(xx.shape), levels=[\n",
        "                0.01, 0.1, 0.5, 0.9], colors=color, alpha=0.2)\n",
        "\n",
        "ax.set(xlim=xlim, ylim=ylim)\n",
        "plt.grid()\n",
        "plt.title(\"Gaussian distribution of data\")\n",
        "plt.show()"
      ],
      "metadata": {
        "colab": {
          "base_uri": "https://localhost:8080/",
          "height": 298
        },
        "id": "twHUm7SB28OZ",
        "outputId": "805f1c1a-d006-4b28-a150-e0175f90e24a"
      },
      "execution_count": null,
      "outputs": [
        {
          "output_type": "display_data",
          "data": {
            "text/plain": [
              "<Figure size 864x576 with 0 Axes>"
            ]
          },
          "metadata": {}
        },
        {
          "output_type": "display_data",
          "data": {
            "text/plain": [
              "<Figure size 432x288 with 1 Axes>"
            ],
            "image/png": "[encoded data removed]"
          },
          "metadata": {
            "needs_background": "light"
          }
        }
      ]
    },
    {
      "cell_type": "code",
      "source": [
        "gnb.predict(X_test)"
      ],
      "metadata": {
        "colab": {
          "base_uri": "https://localhost:8080/",
          "height": 345
        },
        "id": "_NSRbVEC3rG2",
        "outputId": "480af37c-94fa-4fc7-ed7b-d91f88d544dd"
      },
      "execution_count": null,
      "outputs": [
        {
          "output_type": "error",
          "ename": "AxisError",
          "evalue": "ignored",
          "traceback": [
            "\u001b[0;31m---------------------------------------------------------------------------\u001b[0m",
            "\u001b[0;31mAxisError\u001b[0m                                 Traceback (most recent call last)",
            "\u001b[0;32m<ipython-input-37-a61d19dd0e57>\u001b[0m in \u001b[0;36m<module>\u001b[0;34m()\u001b[0m\n\u001b[0;32m----> 1\u001b[0;31m \u001b[0mgnb\u001b[0m\u001b[0;34m.\u001b[0m\u001b[0mpredict\u001b[0m\u001b[0;34m(\u001b[0m\u001b[0mX_test\u001b[0m\u001b[0;34m)\u001b[0m\u001b[0;34m\u001b[0m\u001b[0;34m\u001b[0m\u001b[0m\n\u001b[0m",
            "\u001b[0;32m<ipython-input-31-5a9d108b0faf>\u001b[0m in \u001b[0;36mpredict\u001b[0;34m(self, X)\u001b[0m\n\u001b[1;32m     36\u001b[0m     \u001b[0;32mdef\u001b[0m \u001b[0mpredict\u001b[0m\u001b[0;34m(\u001b[0m\u001b[0mself\u001b[0m\u001b[0;34m,\u001b[0m\u001b[0mX\u001b[0m\u001b[0;34m)\u001b[0m\u001b[0;34m:\u001b[0m\u001b[0;34m\u001b[0m\u001b[0;34m\u001b[0m\u001b[0m\n\u001b[1;32m     37\u001b[0m         \u001b[0mself\u001b[0m\u001b[0;34m.\u001b[0m\u001b[0m_calc_prod_likelihood_prior\u001b[0m\u001b[0;34m(\u001b[0m\u001b[0mX\u001b[0m\u001b[0;34m)\u001b[0m\u001b[0;34m\u001b[0m\u001b[0;34m\u001b[0m\u001b[0m\n\u001b[0;32m---> 38\u001b[0;31m         \u001b[0;32mreturn\u001b[0m \u001b[0mnp\u001b[0m\u001b[0;34m.\u001b[0m\u001b[0margmax\u001b[0m\u001b[0;34m(\u001b[0m\u001b[0mself\u001b[0m\u001b[0;34m.\u001b[0m\u001b[0m_prod_likelihood_prior\u001b[0m\u001b[0;34m,\u001b[0m\u001b[0maxis\u001b[0m\u001b[0;34m=\u001b[0m\u001b[0;36m1\u001b[0m\u001b[0;34m)\u001b[0m\u001b[0;34m\u001b[0m\u001b[0;34m\u001b[0m\u001b[0m\n\u001b[0m\u001b[1;32m     39\u001b[0m \u001b[0;34m\u001b[0m\u001b[0m\n\u001b[1;32m     40\u001b[0m     \u001b[0;32mdef\u001b[0m \u001b[0mpredict_prob\u001b[0m\u001b[0;34m(\u001b[0m\u001b[0mself\u001b[0m\u001b[0;34m,\u001b[0m\u001b[0mX\u001b[0m\u001b[0;34m)\u001b[0m\u001b[0;34m:\u001b[0m\u001b[0;34m\u001b[0m\u001b[0;34m\u001b[0m\u001b[0m\n",
            "\u001b[0;32m<__array_function__ internals>\u001b[0m in \u001b[0;36margmax\u001b[0;34m(*args, **kwargs)\u001b[0m\n",
            "\u001b[0;32m/usr/local/lib/python3.7/dist-packages/numpy/core/fromnumeric.py\u001b[0m in \u001b[0;36margmax\u001b[0;34m(a, axis, out)\u001b[0m\n\u001b[1;32m   1193\u001b[0m \u001b[0;34m\u001b[0m\u001b[0m\n\u001b[1;32m   1194\u001b[0m     \"\"\"\n\u001b[0;32m-> 1195\u001b[0;31m     \u001b[0;32mreturn\u001b[0m \u001b[0m_wrapfunc\u001b[0m\u001b[0;34m(\u001b[0m\u001b[0ma\u001b[0m\u001b[0;34m,\u001b[0m \u001b[0;34m'argmax'\u001b[0m\u001b[0;34m,\u001b[0m \u001b[0maxis\u001b[0m\u001b[0;34m=\u001b[0m\u001b[0maxis\u001b[0m\u001b[0;34m,\u001b[0m \u001b[0mout\u001b[0m\u001b[0;34m=\u001b[0m\u001b[0mout\u001b[0m\u001b[0;34m)\u001b[0m\u001b[0;34m\u001b[0m\u001b[0;34m\u001b[0m\u001b[0m\n\u001b[0m\u001b[1;32m   1196\u001b[0m \u001b[0;34m\u001b[0m\u001b[0m\n\u001b[1;32m   1197\u001b[0m \u001b[0;34m\u001b[0m\u001b[0m\n",
            "\u001b[0;32m/usr/local/lib/python3.7/dist-packages/numpy/core/fromnumeric.py\u001b[0m in \u001b[0;36m_wrapfunc\u001b[0;34m(obj, method, *args, **kwds)\u001b[0m\n\u001b[1;32m     55\u001b[0m \u001b[0;34m\u001b[0m\u001b[0m\n\u001b[1;32m     56\u001b[0m     \u001b[0;32mtry\u001b[0m\u001b[0;34m:\u001b[0m\u001b[0;34m\u001b[0m\u001b[0;34m\u001b[0m\u001b[0m\n\u001b[0;32m---> 57\u001b[0;31m         \u001b[0;32mreturn\u001b[0m \u001b[0mbound\u001b[0m\u001b[0;34m(\u001b[0m\u001b[0;34m*\u001b[0m\u001b[0margs\u001b[0m\u001b[0;34m,\u001b[0m \u001b[0;34m**\u001b[0m\u001b[0mkwds\u001b[0m\u001b[0;34m)\u001b[0m\u001b[0;34m\u001b[0m\u001b[0;34m\u001b[0m\u001b[0m\n\u001b[0m\u001b[1;32m     58\u001b[0m     \u001b[0;32mexcept\u001b[0m \u001b[0mTypeError\u001b[0m\u001b[0;34m:\u001b[0m\u001b[0;34m\u001b[0m\u001b[0;34m\u001b[0m\u001b[0m\n\u001b[1;32m     59\u001b[0m         \u001b[0;31m# A TypeError occurs if the object does have such a method in its\u001b[0m\u001b[0;34m\u001b[0m\u001b[0;34m\u001b[0m\u001b[0;34m\u001b[0m\u001b[0m\n",
            "\u001b[0;31mAxisError\u001b[0m: axis 1 is out of bounds for array of dimension 1"
          ]
        }
      ]
    }
  ]
}